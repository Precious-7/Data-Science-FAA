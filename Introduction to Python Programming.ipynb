{
 "cells": [
  {
   "cell_type": "markdown",
   "id": "e5f01860",
   "metadata": {},
   "source": [
    "\n",
    "# Introduction to Python Programming"
   ]
  },
  {
   "cell_type": "code",
   "execution_count": 29,
   "id": "4066eb10",
   "metadata": {},
   "outputs": [
    {
     "name": "stdout",
     "output_type": "stream",
     "text": [
      "Hello World\n"
     ]
    }
   ],
   "source": [
    "print(\"Hello World\")"
   ]
  },
  {
   "cell_type": "code",
   "execution_count": 1,
   "id": "c0dd8c87",
   "metadata": {},
   "outputs": [
    {
     "data": {
      "text/plain": [
       "1"
      ]
     },
     "execution_count": 1,
     "metadata": {},
     "output_type": "execute_result"
    }
   ],
   "source": [
    "x = 1\n",
    "x"
   ]
  },
  {
   "cell_type": "code",
   "execution_count": 12,
   "id": "30285e52",
   "metadata": {},
   "outputs": [
    {
     "data": {
      "text/plain": [
       "2.6"
      ]
     },
     "execution_count": 12,
     "metadata": {},
     "output_type": "execute_result"
    }
   ],
   "source": [
    "y = 2.6\n",
    "y"
   ]
  },
  {
   "cell_type": "code",
   "execution_count": 24,
   "id": "10f4733b",
   "metadata": {},
   "outputs": [
    {
     "data": {
      "text/plain": [
       "2"
      ]
     },
     "execution_count": 24,
     "metadata": {},
     "output_type": "execute_result"
    }
   ],
   "source": [
    "y = 2\n",
    "y"
   ]
  },
  {
   "cell_type": "code",
   "execution_count": 25,
   "id": "ee48d5ee",
   "metadata": {},
   "outputs": [
    {
     "data": {
      "text/plain": [
       "19"
      ]
     },
     "execution_count": 25,
     "metadata": {},
     "output_type": "execute_result"
    }
   ],
   "source": [
    "x + y * 9 #This calculation follows BODMAS"
   ]
  },
  {
   "cell_type": "code",
   "execution_count": 28,
   "id": "54417225",
   "metadata": {},
   "outputs": [
    {
     "data": {
      "text/plain": [
       "'Name of a Person'"
      ]
     },
     "execution_count": 28,
     "metadata": {},
     "output_type": "execute_result"
    }
   ],
   "source": [
    "name =  \"Name of a Person\"\n",
    "name"
   ]
  },
  {
   "cell_type": "markdown",
   "id": "02e97c9b",
   "metadata": {},
   "source": [
    "Python is Case Sensitive"
   ]
  },
  {
   "cell_type": "markdown",
   "id": "068e9757",
   "metadata": {},
   "source": [
    "We use the print statement to print multiple expressions within a single cell. We use it to print multiple things"
   ]
  },
  {
   "cell_type": "code",
   "execution_count": 31,
   "id": "4e29a481",
   "metadata": {},
   "outputs": [
    {
     "name": "stdout",
     "output_type": "stream",
     "text": [
      "19\n",
      "-1\n"
     ]
    }
   ],
   "source": [
    "print(x+y*9)\n",
    "print(x + y -4)"
   ]
  },
  {
   "cell_type": "markdown",
   "id": "8f724ff5",
   "metadata": {},
   "source": [
    "The Python Programming Language"
   ]
  },
  {
   "cell_type": "code",
   "execution_count": 34,
   "id": "20b65b13",
   "metadata": {},
   "outputs": [],
   "source": [
    "def add_numbers(x, y):\n",
    "    return x + y"
   ]
  },
  {
   "cell_type": "code",
   "execution_count": 45,
   "id": "d0dc7d3f",
   "metadata": {},
   "outputs": [
    {
     "data": {
      "text/plain": [
       "9"
      ]
     },
     "execution_count": 45,
     "metadata": {},
     "output_type": "execute_result"
    }
   ],
   "source": [
    "add_numbers(3, 6)"
   ]
  },
  {
   "cell_type": "code",
   "execution_count": 46,
   "id": "9e04aae1",
   "metadata": {},
   "outputs": [
    {
     "name": "stdout",
     "output_type": "stream",
     "text": [
      "4\n",
      "11\n",
      "17\n"
     ]
    }
   ],
   "source": [
    "print(2+2)\n",
    "print(4+7)\n",
    "print(8+9)"
   ]
  },
  {
   "cell_type": "code",
   "execution_count": 47,
   "id": "149846b6",
   "metadata": {},
   "outputs": [
    {
     "data": {
      "text/plain": [
       "11"
      ]
     },
     "execution_count": 47,
     "metadata": {},
     "output_type": "execute_result"
    }
   ],
   "source": [
    "add_numbers(4, 7)"
   ]
  },
  {
   "cell_type": "code",
   "execution_count": 48,
   "id": "7e8c3ac4",
   "metadata": {},
   "outputs": [
    {
     "data": {
      "text/plain": [
       "1078"
      ]
     },
     "execution_count": 48,
     "metadata": {},
     "output_type": "execute_result"
    }
   ],
   "source": [
    "#calling the add_numbers function and passing in values 1000 and 78\n",
    "add_numbers(1000, 78)"
   ]
  },
  {
   "cell_type": "code",
   "execution_count": 49,
   "id": "0d7d8f96",
   "metadata": {},
   "outputs": [
    {
     "name": "stdout",
     "output_type": "stream",
     "text": [
      "a is greater than seven\n"
     ]
    }
   ],
   "source": [
    "a = 10\n",
    "if (a > 7):\n",
    "    print (\"a is greater than seven\")\n",
    "else:\n",
    "    print(\"a is less than seven\")"
   ]
  },
  {
   "cell_type": "code",
   "execution_count": null,
   "id": "157facd5",
   "metadata": {},
   "outputs": [],
   "source": []
  },
  {
   "cell_type": "code",
   "execution_count": null,
   "id": "daa359fe",
   "metadata": {},
   "outputs": [],
   "source": []
  },
  {
   "cell_type": "code",
   "execution_count": null,
   "id": "e65b5af1",
   "metadata": {},
   "outputs": [],
   "source": []
  },
  {
   "cell_type": "code",
   "execution_count": null,
   "id": "8cf39aef",
   "metadata": {},
   "outputs": [],
   "source": []
  },
  {
   "cell_type": "code",
   "execution_count": null,
   "id": "aba482d3",
   "metadata": {},
   "outputs": [],
   "source": []
  },
  {
   "cell_type": "code",
   "execution_count": null,
   "id": "f555d418",
   "metadata": {},
   "outputs": [],
   "source": []
  }
 ],
 "metadata": {
  "kernelspec": {
   "display_name": "Python 3 (ipykernel)",
   "language": "python",
   "name": "python3"
  },
  "language_info": {
   "codemirror_mode": {
    "name": "ipython",
    "version": 3
   },
   "file_extension": ".py",
   "mimetype": "text/x-python",
   "name": "python",
   "nbconvert_exporter": "python",
   "pygments_lexer": "ipython3",
   "version": "3.9.13"
  }
 },
 "nbformat": 4,
 "nbformat_minor": 5
}

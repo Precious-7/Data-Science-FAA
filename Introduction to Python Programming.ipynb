{
 "cells": [
  {
   "cell_type": "markdown",
   "id": "e5f01860",
   "metadata": {},
   "source": [
    "\n",
    "# Introduction to Python Programming"
   ]
  },
  {
   "cell_type": "code",
   "execution_count": 29,
   "id": "4066eb10",
   "metadata": {},
   "outputs": [
    {
     "name": "stdout",
     "output_type": "stream",
     "text": [
      "Hello World\n"
     ]
    }
   ],
   "source": [
    "print(\"Hello World\")"
   ]
  },
  {
   "cell_type": "code",
   "execution_count": 1,
   "id": "c0dd8c87",
   "metadata": {},
   "outputs": [
    {
     "data": {
      "text/plain": [
       "1"
      ]
     },
     "execution_count": 1,
     "metadata": {},
     "output_type": "execute_result"
    }
   ],
   "source": [
    "x = 1\n",
    "x"
   ]
  },
  {
   "cell_type": "code",
   "execution_count": 12,
   "id": "30285e52",
   "metadata": {},
   "outputs": [
    {
     "data": {
      "text/plain": [
       "2.6"
      ]
     },
     "execution_count": 12,
     "metadata": {},
     "output_type": "execute_result"
    }
   ],
   "source": [
    "y = 2.6\n",
    "y"
   ]
  },
  {
   "cell_type": "code",
   "execution_count": 24,
   "id": "10f4733b",
   "metadata": {},
   "outputs": [
    {
     "data": {
      "text/plain": [
       "2"
      ]
     },
     "execution_count": 24,
     "metadata": {},
     "output_type": "execute_result"
    }
   ],
   "source": [
    "y = 2\n",
    "y"
   ]
  },
  {
   "cell_type": "code",
   "execution_count": 25,
   "id": "ee48d5ee",
   "metadata": {},
   "outputs": [
    {
     "data": {
      "text/plain": [
       "19"
      ]
     },
     "execution_count": 25,
     "metadata": {},
     "output_type": "execute_result"
    }
   ],
   "source": [
    "x + y * 9 #This calculation follows BODMAS"
   ]
  },
  {
   "cell_type": "code",
   "execution_count": 28,
   "id": "54417225",
   "metadata": {},
   "outputs": [
    {
     "data": {
      "text/plain": [
       "'Name of a Person'"
      ]
     },
     "execution_count": 28,
     "metadata": {},
     "output_type": "execute_result"
    }
   ],
   "source": [
    "name =  \"Name of a Person\"\n",
    "name"
   ]
  },
  {
   "cell_type": "markdown",
   "id": "02e97c9b",
   "metadata": {},
   "source": [
    "Python is Case Sensitive"
   ]
  },
  {
   "cell_type": "markdown",
   "id": "068e9757",
   "metadata": {},
   "source": [
    "We use the print statement to print multiple expressions within a single cell. We use it to print multiple things"
   ]
  },
  {
   "cell_type": "code",
   "execution_count": 31,
   "id": "4e29a481",
   "metadata": {},
   "outputs": [
    {
     "name": "stdout",
     "output_type": "stream",
     "text": [
      "19\n",
      "-1\n"
     ]
    }
   ],
   "source": [
    "print(x+y*9)\n",
    "print(x + y -4)"
   ]
  },
  {
   "cell_type": "markdown",
   "id": "fb1423cb",
   "metadata": {},
   "source": [
    "The Python Programming Language"
   ]
  },
  {
   "cell_type": "code",
   "execution_count": 9,
   "id": "20b65b13",
   "metadata": {},
   "outputs": [],
   "source": [
    "def add_numbers(x, y):\n",
    "    return x + y"
   ]
  },
  {
   "cell_type": "code",
   "execution_count": 10,
   "id": "d0dc7d3f",
   "metadata": {},
   "outputs": [
    {
     "data": {
      "text/plain": [
       "9"
      ]
     },
     "execution_count": 10,
     "metadata": {},
     "output_type": "execute_result"
    }
   ],
   "source": [
    "add_numbers(3, 6)"
   ]
  },
  {
   "cell_type": "code",
   "execution_count": 46,
   "id": "9e04aae1",
   "metadata": {},
   "outputs": [
    {
     "name": "stdout",
     "output_type": "stream",
     "text": [
      "4\n",
      "11\n",
      "17\n"
     ]
    }
   ],
   "source": [
    "print(2+2)\n",
    "print(4+7)\n",
    "print(8+9)"
   ]
  },
  {
   "cell_type": "code",
   "execution_count": 47,
   "id": "149846b6",
   "metadata": {},
   "outputs": [
    {
     "data": {
      "text/plain": [
       "11"
      ]
     },
     "execution_count": 47,
     "metadata": {},
     "output_type": "execute_result"
    }
   ],
   "source": [
    "add_numbers(4, 7)"
   ]
  },
  {
   "cell_type": "code",
   "execution_count": 48,
   "id": "7e8c3ac4",
   "metadata": {},
   "outputs": [
    {
     "data": {
      "text/plain": [
       "1078"
      ]
     },
     "execution_count": 48,
     "metadata": {},
     "output_type": "execute_result"
    }
   ],
   "source": [
    "#calling the add_numbers function and passing in values 1000 and 78\n",
    "add_numbers(1000, 78)"
   ]
  },
  {
   "cell_type": "code",
   "execution_count": 52,
   "id": "0d7d8f96",
   "metadata": {},
   "outputs": [
    {
     "name": "stdout",
     "output_type": "stream",
     "text": [
      "a is greater than seven\n"
     ]
    }
   ],
   "source": [
    "a = add_numbers(4, 6)\n",
    "if (a > 7):\n",
    "    print (\"a is greater than seven\")\n",
    "else:\n",
    "    print(\"a is less than seven\")"
   ]
  },
  {
   "cell_type": "code",
   "execution_count": null,
   "id": "157facd5",
   "metadata": {},
   "outputs": [],
   "source": []
  },
  {
   "cell_type": "markdown",
   "id": "7447c4fa",
   "metadata": {},
   "source": [
    "Python Programming data types"
   ]
  },
  {
   "cell_type": "code",
   "execution_count": 1,
   "id": "e65b5af1",
   "metadata": {},
   "outputs": [
    {
     "data": {
      "text/plain": [
       "str"
      ]
     },
     "execution_count": 1,
     "metadata": {},
     "output_type": "execute_result"
    }
   ],
   "source": [
    "type(\"This is a string\")"
   ]
  },
  {
   "cell_type": "code",
   "execution_count": 3,
   "id": "8cf39aef",
   "metadata": {},
   "outputs": [
    {
     "data": {
      "text/plain": [
       "NoneType"
      ]
     },
     "execution_count": 3,
     "metadata": {},
     "output_type": "execute_result"
    }
   ],
   "source": [
    "type(None)"
   ]
  },
  {
   "cell_type": "code",
   "execution_count": 4,
   "id": "aba482d3",
   "metadata": {},
   "outputs": [
    {
     "data": {
      "text/plain": [
       "int"
      ]
     },
     "execution_count": 4,
     "metadata": {},
     "output_type": "execute_result"
    }
   ],
   "source": [
    "type(20)"
   ]
  },
  {
   "cell_type": "code",
   "execution_count": 5,
   "id": "f555d418",
   "metadata": {},
   "outputs": [
    {
     "data": {
      "text/plain": [
       "float"
      ]
     },
     "execution_count": 5,
     "metadata": {},
     "output_type": "execute_result"
    }
   ],
   "source": [
    "type(1.0) #any decimal value is a float data type"
   ]
  },
  {
   "cell_type": "code",
   "execution_count": 11,
   "id": "5cb574f3",
   "metadata": {},
   "outputs": [
    {
     "data": {
      "text/plain": [
       "function"
      ]
     },
     "execution_count": 11,
     "metadata": {},
     "output_type": "execute_result"
    }
   ],
   "source": [
    "type(add_numbers)"
   ]
  },
  {
   "cell_type": "code",
   "execution_count": null,
   "id": "6b9dbca9",
   "metadata": {},
   "outputs": [],
   "source": []
  },
  {
   "cell_type": "markdown",
   "id": "54dd25dd",
   "metadata": {},
   "source": [
    "Data Collection in Python"
   ]
  },
  {
   "cell_type": "code",
   "execution_count": 13,
   "id": "51b912bc",
   "metadata": {},
   "outputs": [
    {
     "data": {
      "text/plain": [
       "(2, 'a', 5.0)"
      ]
     },
     "execution_count": 13,
     "metadata": {},
     "output_type": "execute_result"
    }
   ],
   "source": [
    "a = (2, 'a', 5.0)\n",
    "a"
   ]
  },
  {
   "cell_type": "code",
   "execution_count": null,
   "id": "af1208e2",
   "metadata": {},
   "outputs": [],
   "source": []
  },
  {
   "cell_type": "code",
   "execution_count": 14,
   "id": "4bcbb39e",
   "metadata": {},
   "outputs": [
    {
     "data": {
      "text/plain": [
       "tuple"
      ]
     },
     "execution_count": 14,
     "metadata": {},
     "output_type": "execute_result"
    }
   ],
   "source": [
    "type(a)"
   ]
  },
  {
   "cell_type": "code",
   "execution_count": null,
   "id": "ea26e2b0",
   "metadata": {},
   "outputs": [],
   "source": [
    "#Indexing of any data in Python starts from 0"
   ]
  },
  {
   "cell_type": "code",
   "execution_count": 15,
   "id": "83311800",
   "metadata": {},
   "outputs": [
    {
     "data": {
      "text/plain": [
       "2"
      ]
     },
     "execution_count": 15,
     "metadata": {},
     "output_type": "execute_result"
    }
   ],
   "source": [
    "a[0]"
   ]
  },
  {
   "cell_type": "code",
   "execution_count": 18,
   "id": "10549177",
   "metadata": {},
   "outputs": [
    {
     "name": "stdout",
     "output_type": "stream",
     "text": [
      "2\n",
      "a\n",
      "5.0\n"
     ]
    }
   ],
   "source": [
    "print(a[0])\n",
    "print(a[1])\n",
    "print(a[2])"
   ]
  },
  {
   "cell_type": "code",
   "execution_count": 19,
   "id": "c1b0a108",
   "metadata": {},
   "outputs": [
    {
     "ename": "TypeError",
     "evalue": "'tuple' object does not support item assignment",
     "output_type": "error",
     "traceback": [
      "\u001b[1;31m---------------------------------------------------------------------------\u001b[0m",
      "\u001b[1;31mTypeError\u001b[0m                                 Traceback (most recent call last)",
      "\u001b[1;32m~\\AppData\\Local\\Temp\\ipykernel_24896\\1679710888.py\u001b[0m in \u001b[0;36m<module>\u001b[1;34m\u001b[0m\n\u001b[1;32m----> 1\u001b[1;33m \u001b[0ma\u001b[0m\u001b[1;33m[\u001b[0m\u001b[1;36m2\u001b[0m\u001b[1;33m]\u001b[0m \u001b[1;33m=\u001b[0m \u001b[1;34m\"boy\"\u001b[0m\u001b[1;33m\u001b[0m\u001b[1;33m\u001b[0m\u001b[0m\n\u001b[0m",
      "\u001b[1;31mTypeError\u001b[0m: 'tuple' object does not support item assignment"
     ]
    }
   ],
   "source": [
    "a[2] = \"boy\""
   ]
  },
  {
   "cell_type": "code",
   "execution_count": null,
   "id": "debb1bce",
   "metadata": {},
   "outputs": [],
   "source": []
  },
  {
   "cell_type": "markdown",
   "id": "a438e98c",
   "metadata": {},
   "source": [
    "# List"
   ]
  },
  {
   "cell_type": "markdown",
   "id": "bcea5ac2",
   "metadata": {},
   "source": [
    "A list is a mutable data structure"
   ]
  },
  {
   "cell_type": "code",
   "execution_count": 3,
   "id": "7a168a58",
   "metadata": {},
   "outputs": [
    {
     "data": {
      "text/plain": [
       "list"
      ]
     },
     "execution_count": 3,
     "metadata": {},
     "output_type": "execute_result"
    }
   ],
   "source": [
    "x = [1, 'a', 2, 'b', 5.0]\n",
    "type(x)"
   ]
  },
  {
   "cell_type": "code",
   "execution_count": 4,
   "id": "22502359",
   "metadata": {},
   "outputs": [
    {
     "data": {
      "text/plain": [
       "[1, 'a', 2, 'b', 5.0]"
      ]
     },
     "execution_count": 4,
     "metadata": {},
     "output_type": "execute_result"
    }
   ],
   "source": [
    "x"
   ]
  },
  {
   "cell_type": "markdown",
   "id": "16783cff",
   "metadata": {},
   "source": [
    "Use append to aplpend an object to a list"
   ]
  },
  {
   "cell_type": "code",
   "execution_count": 5,
   "id": "8eec01b8",
   "metadata": {},
   "outputs": [
    {
     "name": "stdout",
     "output_type": "stream",
     "text": [
      "[1, 'a', 2, 'b', 5.0, 3]\n"
     ]
    }
   ],
   "source": [
    "x.append(3)\n",
    "print(x)"
   ]
  },
  {
   "cell_type": "code",
   "execution_count": 6,
   "id": "807b6230",
   "metadata": {},
   "outputs": [
    {
     "data": {
      "text/plain": [
       "list"
      ]
     },
     "execution_count": 6,
     "metadata": {},
     "output_type": "execute_result"
    }
   ],
   "source": [
    "type(x)"
   ]
  },
  {
   "cell_type": "markdown",
   "id": "0fbb6014",
   "metadata": {},
   "source": [
    "# For Loop: Python Programming"
   ]
  },
  {
   "cell_type": "code",
   "execution_count": 8,
   "id": "9a594794",
   "metadata": {},
   "outputs": [
    {
     "name": "stdout",
     "output_type": "stream",
     "text": [
      "1\n",
      "a\n",
      "2\n",
      "b\n",
      "5.0\n",
      "3\n"
     ]
    }
   ],
   "source": [
    "for item in x:\n",
    "    print(item)"
   ]
  },
  {
   "cell_type": "code",
   "execution_count": 9,
   "id": "f49d243c",
   "metadata": {},
   "outputs": [
    {
     "data": {
      "text/plain": [
       "[1, 3, 5, 6, 9]"
      ]
     },
     "execution_count": 9,
     "metadata": {},
     "output_type": "execute_result"
    }
   ],
   "source": [
    "y = [1, 3, 5, 6, 9]\n",
    "y"
   ]
  },
  {
   "cell_type": "code",
   "execution_count": 11,
   "id": "a2413b5f",
   "metadata": {},
   "outputs": [
    {
     "name": "stdout",
     "output_type": "stream",
     "text": [
      "[1, 'a', 2, 'b', 5.0, 3]\n",
      "[1, 'a', 2, 'b', 5.0, 3, 1, 'a', 2, 'b', 5.0, 3, 1, 'a', 2, 'b', 5.0, 3]\n",
      "[1, 'a', 2, 'b', 5.0, 3, 1, 'a', 2, 'b', 5.0, 3, 1, 'a', 2, 'b', 5.0, 3, 1, 'a', 2, 'b', 5.0, 3, 1, 'a', 2, 'b', 5.0, 3]\n",
      "[1, 'a', 2, 'b', 5.0, 3, 1, 'a', 2, 'b', 5.0, 3, 1, 'a', 2, 'b', 5.0, 3, 1, 'a', 2, 'b', 5.0, 3, 1, 'a', 2, 'b', 5.0, 3, 1, 'a', 2, 'b', 5.0, 3]\n",
      "[1, 'a', 2, 'b', 5.0, 3, 1, 'a', 2, 'b', 5.0, 3, 1, 'a', 2, 'b', 5.0, 3, 1, 'a', 2, 'b', 5.0, 3, 1, 'a', 2, 'b', 5.0, 3, 1, 'a', 2, 'b', 5.0, 3, 1, 'a', 2, 'b', 5.0, 3, 1, 'a', 2, 'b', 5.0, 3, 1, 'a', 2, 'b', 5.0, 3]\n"
     ]
    }
   ],
   "source": [
    "for i in y:\n",
    "    print(i * x)"
   ]
  },
  {
   "cell_type": "code",
   "execution_count": 12,
   "id": "cbd99e4d",
   "metadata": {},
   "outputs": [
    {
     "name": "stdout",
     "output_type": "stream",
     "text": [
      "2\n",
      "6\n",
      "10\n",
      "12\n",
      "18\n"
     ]
    }
   ],
   "source": [
    "for i in y:\n",
    "    print(i * 2)"
   ]
  },
  {
   "cell_type": "markdown",
   "id": "7945f405",
   "metadata": {},
   "source": [
    "Operations on a List"
   ]
  },
  {
   "cell_type": "code",
   "execution_count": 13,
   "id": "bff068e9",
   "metadata": {},
   "outputs": [
    {
     "data": {
      "text/plain": [
       "[1, 2, 3, 4]"
      ]
     },
     "execution_count": 13,
     "metadata": {},
     "output_type": "execute_result"
    }
   ],
   "source": [
    "[1, 2] + [3, 4] #adding a list woth another list"
   ]
  },
  {
   "cell_type": "code",
   "execution_count": 14,
   "id": "477f0d7b",
   "metadata": {},
   "outputs": [
    {
     "data": {
      "text/plain": [
       "[1, 1, 1, 1]"
      ]
     },
     "execution_count": 14,
     "metadata": {},
     "output_type": "execute_result"
    }
   ],
   "source": [
    "[1] *4 #multipolying a list "
   ]
  },
  {
   "cell_type": "markdown",
   "id": "59377657",
   "metadata": {},
   "source": [
    "Slicing a List"
   ]
  },
  {
   "cell_type": "code",
   "execution_count": 19,
   "id": "fa27d10f",
   "metadata": {},
   "outputs": [
    {
     "name": "stdout",
     "output_type": "stream",
     "text": [
      "1\n",
      "[1]\n",
      "[1, 'a']\n",
      "3\n",
      "5.0\n"
     ]
    }
   ],
   "source": [
    "print(x[0]) #first character\n",
    "print(x[0:1]) #firat character, but we hace explicitly set the end character, which is the number before 1\n",
    "print(x[0:2]) #first two characters\n",
    "print(x[-1]) #last character in the list\n",
    "print(x[-2]) #the second to the last character in the sheet"
   ]
  },
  {
   "cell_type": "code",
   "execution_count": null,
   "id": "1ffff123",
   "metadata": {},
   "outputs": [],
   "source": []
  },
  {
   "cell_type": "markdown",
   "id": "5545fe03",
   "metadata": {},
   "source": [
    "# String"
   ]
  },
  {
   "cell_type": "code",
   "execution_count": 21,
   "id": "8368101d",
   "metadata": {},
   "outputs": [
    {
     "data": {
      "text/plain": [
       "'this is a string'"
      ]
     },
     "execution_count": 21,
     "metadata": {},
     "output_type": "execute_result"
    }
   ],
   "source": [
    "x = 'this is a string'\n",
    "x"
   ]
  },
  {
   "cell_type": "markdown",
   "id": "592910cd",
   "metadata": {},
   "source": [
    "Slicing"
   ]
  },
  {
   "cell_type": "code",
   "execution_count": 23,
   "id": "45d39cb4",
   "metadata": {},
   "outputs": [
    {
     "name": "stdout",
     "output_type": "stream",
     "text": [
      "t\n",
      "t\n",
      "this i\n"
     ]
    }
   ],
   "source": [
    "print(x[0]) #first character\n",
    "print(x[0:1]) #firat character, but we hace explicitly set the end character, which is the number before 1\n",
    "print(x[0:6]) #first two characters"
   ]
  },
  {
   "cell_type": "markdown",
   "id": "7f085160",
   "metadata": {},
   "source": [
    "Concatenating two strings"
   ]
  },
  {
   "cell_type": "code",
   "execution_count": 24,
   "id": "bbf7fe0d",
   "metadata": {},
   "outputs": [
    {
     "name": "stdout",
     "output_type": "stream",
     "text": [
      "FasakinOluwaseyi\n"
     ]
    }
   ],
   "source": [
    "firstname = 'Fasakin'\n",
    "lastname = 'Oluwaseyi'\n",
    "\n",
    "print(firstname + lastname)"
   ]
  },
  {
   "cell_type": "code",
   "execution_count": 25,
   "id": "768c0c5e",
   "metadata": {},
   "outputs": [
    {
     "name": "stdout",
     "output_type": "stream",
     "text": [
      "Fasakin Oluwaseyi\n"
     ]
    }
   ],
   "source": [
    "print(firstname + ' ' + lastname) #this includes space"
   ]
  },
  {
   "cell_type": "code",
   "execution_count": 27,
   "id": "ade4a938",
   "metadata": {},
   "outputs": [
    {
     "ename": "NameError",
     "evalue": "name 'string' is not defined",
     "output_type": "error",
     "traceback": [
      "\u001b[1;31m---------------------------------------------------------------------------\u001b[0m",
      "\u001b[1;31mNameError\u001b[0m                                 Traceback (most recent call last)",
      "\u001b[1;32m~\\AppData\\Local\\Temp\\ipykernel_19784\\3435781712.py\u001b[0m in \u001b[0;36m<module>\u001b[1;34m\u001b[0m\n\u001b[1;32m----> 1\u001b[1;33m \u001b[0mstring\u001b[0m \u001b[1;33m+\u001b[0m \u001b[1;36m1.2\u001b[0m \u001b[1;31m#you cannot concatenate an integer with a float data type\u001b[0m\u001b[1;33m\u001b[0m\u001b[1;33m\u001b[0m\u001b[0m\n\u001b[0m",
      "\u001b[1;31mNameError\u001b[0m: name 'string' is not defined"
     ]
    }
   ],
   "source": [
    "string + 1.2 #you cannot concatenate an integer with a float data type"
   ]
  },
  {
   "cell_type": "code",
   "execution_count": 29,
   "id": "6bc32787",
   "metadata": {},
   "outputs": [
    {
     "data": {
      "text/plain": [
       "str"
      ]
     },
     "execution_count": 29,
     "metadata": {},
     "output_type": "execute_result"
    }
   ],
   "source": [
    "str(1.2) #this converts the output to a string"
   ]
  },
  {
   "cell_type": "code",
   "execution_count": 31,
   "id": "5d2bfb99",
   "metadata": {},
   "outputs": [
    {
     "data": {
      "text/plain": [
       "'string 1.2'"
      ]
     },
     "execution_count": 31,
     "metadata": {},
     "output_type": "execute_result"
    }
   ],
   "source": [
    "'string' + ' ' + str(1.2)"
   ]
  },
  {
   "cell_type": "markdown",
   "id": "480c8747",
   "metadata": {},
   "source": [
    "\"Split\" returns a list of all the words in a string or a list; split on a specific character"
   ]
  },
  {
   "cell_type": "code",
   "execution_count": 47,
   "id": "abb41f86",
   "metadata": {},
   "outputs": [
    {
     "data": {
      "text/plain": [
       "['Fasakin', 'Oluwaseyi', 'Nigeria']"
      ]
     },
     "execution_count": 47,
     "metadata": {},
     "output_type": "execute_result"
    }
   ],
   "source": [
    "name = 'Fasakin Oluwaseyi Nigeria'\n",
    "splitname = name.split(' ')\n",
    "splitname"
   ]
  },
  {
   "cell_type": "code",
   "execution_count": 42,
   "id": "7a0956e0",
   "metadata": {},
   "outputs": [
    {
     "data": {
      "text/plain": [
       "'Fasakin'"
      ]
     },
     "execution_count": 42,
     "metadata": {},
     "output_type": "execute_result"
    }
   ],
   "source": [
    "name = 'Fasakin Oluwaseyi Nigeria'\n",
    "firstname = name.split(' ')[0] #[0] selects the first element of the list\n",
    "firstname"
   ]
  },
  {
   "cell_type": "code",
   "execution_count": null,
   "id": "85418509",
   "metadata": {},
   "outputs": [],
   "source": []
  },
  {
   "cell_type": "code",
   "execution_count": null,
   "id": "92595b15",
   "metadata": {},
   "outputs": [],
   "source": []
  },
  {
   "cell_type": "code",
   "execution_count": null,
   "id": "cfca0d12",
   "metadata": {},
   "outputs": [],
   "source": []
  },
  {
   "cell_type": "code",
   "execution_count": null,
   "id": "b3e7b750",
   "metadata": {},
   "outputs": [],
   "source": []
  },
  {
   "cell_type": "code",
   "execution_count": null,
   "id": "d376498e",
   "metadata": {},
   "outputs": [],
   "source": []
  },
  {
   "cell_type": "code",
   "execution_count": null,
   "id": "c4460f9a",
   "metadata": {},
   "outputs": [],
   "source": []
  },
  {
   "cell_type": "code",
   "execution_count": null,
   "id": "2230328f",
   "metadata": {},
   "outputs": [],
   "source": []
  },
  {
   "cell_type": "code",
   "execution_count": null,
   "id": "fc5dcb4a",
   "metadata": {},
   "outputs": [],
   "source": []
  },
  {
   "cell_type": "code",
   "execution_count": null,
   "id": "0613e262",
   "metadata": {},
   "outputs": [],
   "source": []
  },
  {
   "cell_type": "code",
   "execution_count": null,
   "id": "6d28012b",
   "metadata": {},
   "outputs": [],
   "source": []
  },
  {
   "cell_type": "code",
   "execution_count": null,
   "id": "62556190",
   "metadata": {},
   "outputs": [],
   "source": []
  },
  {
   "cell_type": "code",
   "execution_count": null,
   "id": "54952087",
   "metadata": {},
   "outputs": [],
   "source": []
  },
  {
   "cell_type": "code",
   "execution_count": null,
   "id": "12386786",
   "metadata": {},
   "outputs": [],
   "source": []
  },
  {
   "cell_type": "code",
   "execution_count": null,
   "id": "945bdca8",
   "metadata": {},
   "outputs": [],
   "source": []
  },
  {
   "cell_type": "code",
   "execution_count": null,
   "id": "e511f149",
   "metadata": {},
   "outputs": [],
   "source": []
  },
  {
   "cell_type": "code",
   "execution_count": null,
   "id": "8bde8c98",
   "metadata": {},
   "outputs": [],
   "source": []
  },
  {
   "cell_type": "code",
   "execution_count": null,
   "id": "d26d0357",
   "metadata": {},
   "outputs": [],
   "source": []
  },
  {
   "cell_type": "code",
   "execution_count": null,
   "id": "5e17b1d2",
   "metadata": {},
   "outputs": [],
   "source": []
  },
  {
   "cell_type": "code",
   "execution_count": null,
   "id": "9c012493",
   "metadata": {},
   "outputs": [],
   "source": []
  },
  {
   "cell_type": "code",
   "execution_count": null,
   "id": "0f0a626e",
   "metadata": {},
   "outputs": [],
   "source": []
  },
  {
   "cell_type": "code",
   "execution_count": null,
   "id": "3c9a247e",
   "metadata": {},
   "outputs": [],
   "source": []
  },
  {
   "cell_type": "code",
   "execution_count": null,
   "id": "2f4d9d53",
   "metadata": {},
   "outputs": [],
   "source": []
  },
  {
   "cell_type": "code",
   "execution_count": null,
   "id": "e2b50d5f",
   "metadata": {},
   "outputs": [],
   "source": []
  },
  {
   "cell_type": "code",
   "execution_count": null,
   "id": "8ba0945e",
   "metadata": {},
   "outputs": [],
   "source": []
  }
 ],
 "metadata": {
  "kernelspec": {
   "display_name": "Python 3 (ipykernel)",
   "language": "python",
   "name": "python3"
  },
  "language_info": {
   "codemirror_mode": {
    "name": "ipython",
    "version": 3
   },
   "file_extension": ".py",
   "mimetype": "text/x-python",
   "name": "python",
   "nbconvert_exporter": "python",
   "pygments_lexer": "ipython3",
   "version": "3.9.13"
  }
 },
 "nbformat": 4,
 "nbformat_minor": 5
}

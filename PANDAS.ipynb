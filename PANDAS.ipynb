{
 "cells": [
  {
   "cell_type": "markdown",
   "id": "9fbf214e",
   "metadata": {},
   "source": [
    "# PANDAS "
   ]
  },
  {
   "cell_type": "markdown",
   "id": "dfd38435",
   "metadata": {},
   "source": [
    "## The Series Data Structure"
   ]
  },
  {
   "cell_type": "code",
   "execution_count": 4,
   "id": "08d72cc3",
   "metadata": {},
   "outputs": [],
   "source": [
    "import pandas as pd"
   ]
  },
  {
   "cell_type": "code",
   "execution_count": 6,
   "id": "1e4bf0c9",
   "metadata": {},
   "outputs": [
    {
     "data": {
      "text/plain": [
       "0    1\n",
       "1    2\n",
       "2    3\n",
       "dtype: int64"
      ]
     },
     "execution_count": 6,
     "metadata": {},
     "output_type": "execute_result"
    }
   ],
   "source": [
    "number = [1, 2, 3]\n",
    "pd.Series(number)"
   ]
  },
  {
   "cell_type": "code",
   "execution_count": 8,
   "id": "d7658ec7",
   "metadata": {},
   "outputs": [
    {
     "data": {
      "text/plain": [
       "0    Orange\n",
       "1         3\n",
       "2      None\n",
       "dtype: object"
      ]
     },
     "execution_count": 8,
     "metadata": {},
     "output_type": "execute_result"
    }
   ],
   "source": [
    "val = ['Orange', 3, None]\n",
    "pd.Series(val)"
   ]
  },
  {
   "cell_type": "code",
   "execution_count": 9,
   "id": "64eb2f6b",
   "metadata": {},
   "outputs": [
    {
     "data": {
      "text/plain": [
       "0    1.0\n",
       "1    2.0\n",
       "2    NaN\n",
       "dtype: float64"
      ]
     },
     "execution_count": 9,
     "metadata": {},
     "output_type": "execute_result"
    }
   ],
   "source": [
    "numbers = [1, 2, None]\n",
    "pd.Series(numbers)"
   ]
  },
  {
   "cell_type": "code",
   "execution_count": 6,
   "id": "36dc7245",
   "metadata": {},
   "outputs": [
    {
     "data": {
      "text/plain": [
       "Archery           Ghutan\n",
       "Golf            Scotland\n",
       "Taekwondo    South Korea\n",
       "dtype: object"
      ]
     },
     "execution_count": 6,
     "metadata": {},
     "output_type": "execute_result"
    }
   ],
   "source": [
    "sports = {'Archery': 'Ghutan',\n",
    "          'Golf': 'Scotland',\n",
    "          'Taekwondo': 'South Korea'}\n",
    "s = pd.Series(sports)\n",
    "s"
   ]
  },
  {
   "cell_type": "code",
   "execution_count": 8,
   "id": "69ecc48c",
   "metadata": {},
   "outputs": [
    {
     "data": {
      "text/plain": [
       "Index(['Archery', 'Golf', 'Taekwondo'], dtype='object')"
      ]
     },
     "execution_count": 8,
     "metadata": {},
     "output_type": "execute_result"
    }
   ],
   "source": [
    "s.index"
   ]
  },
  {
   "cell_type": "code",
   "execution_count": 13,
   "id": "4a130e55",
   "metadata": {},
   "outputs": [
    {
     "data": {
      "text/plain": [
       "india      tiger\n",
       "america     bear\n",
       "canada     moose\n",
       "dtype: object"
      ]
     },
     "execution_count": 13,
     "metadata": {},
     "output_type": "execute_result"
    }
   ],
   "source": [
    "s = pd.Series(['tiger', 'bear', 'moose'], index = ['india', 'america', 'canada'])\n",
    "s"
   ]
  },
  {
   "cell_type": "markdown",
   "id": "34e425be",
   "metadata": {},
   "source": [
    "# Querying a Pandas Series "
   ]
  },
  {
   "cell_type": "code",
   "execution_count": 20,
   "id": "769b93c5",
   "metadata": {},
   "outputs": [
    {
     "data": {
      "text/plain": [
       "Nigeria               Naira\n",
       "China                  Yuan\n",
       "Argentina    Argentina Peso\n",
       "Cyprus                 Euro\n",
       "dtype: object"
      ]
     },
     "execution_count": 20,
     "metadata": {},
     "output_type": "execute_result"
    }
   ],
   "source": [
    "currency = {'Nigeria' : 'Naira',\n",
    "           'China' : 'Yuan',\n",
    "           'Argentina' : 'Argentine Peso',\n",
    "           'Cyprus' : 'Euro'}\n",
    "s = pd.Series(currency)\n",
    "s"
   ]
  },
  {
   "cell_type": "code",
   "execution_count": 21,
   "id": "b8c2257b",
   "metadata": {},
   "outputs": [
    {
     "data": {
      "text/plain": [
       "'Argentina Peso'"
      ]
     },
     "execution_count": 21,
     "metadata": {},
     "output_type": "execute_result"
    }
   ],
   "source": [
    "s.iloc[2]"
   ]
  },
  {
   "cell_type": "code",
   "execution_count": 22,
   "id": "b9808f4e",
   "metadata": {},
   "outputs": [
    {
     "data": {
      "text/plain": [
       "'Euro'"
      ]
     },
     "execution_count": 22,
     "metadata": {},
     "output_type": "execute_result"
    }
   ],
   "source": [
    "s.iloc[3]"
   ]
  },
  {
   "cell_type": "code",
   "execution_count": 24,
   "id": "2138cde0",
   "metadata": {},
   "outputs": [
    {
     "data": {
      "text/plain": [
       "'Naira'"
      ]
     },
     "execution_count": 24,
     "metadata": {},
     "output_type": "execute_result"
    }
   ],
   "source": [
    "s.loc['Nigeria']"
   ]
  },
  {
   "cell_type": "code",
   "execution_count": 25,
   "id": "ad47857f",
   "metadata": {},
   "outputs": [
    {
     "data": {
      "text/plain": [
       "0    100.0\n",
       "1    120.0\n",
       "2    101.0\n",
       "3      3.0\n",
       "dtype: float64"
      ]
     },
     "execution_count": 25,
     "metadata": {},
     "output_type": "execute_result"
    }
   ],
   "source": [
    "s = pd.Series([100.00, 120.00, 101.00, 3.00])\n",
    "s"
   ]
  },
  {
   "cell_type": "code",
   "execution_count": 31,
   "id": "0564d047",
   "metadata": {},
   "outputs": [
    {
     "name": "stdout",
     "output_type": "stream",
     "text": [
      "324.0\n"
     ]
    }
   ],
   "source": [
    "total = 0\n",
    "for item in s:\n",
    "    total = total + item\n",
    "    \n",
    "print(total)"
   ]
  },
  {
   "cell_type": "code",
   "execution_count": 40,
   "id": "97173459",
   "metadata": {},
   "outputs": [
    {
     "name": "stdout",
     "output_type": "stream",
     "text": [
      "324.0\n"
     ]
    }
   ],
   "source": [
    "import numpy as np\n",
    "total = np.sum(s)\n",
    "print (total)"
   ]
  },
  {
   "cell_type": "code",
   "execution_count": 44,
   "id": "a5bceb5c",
   "metadata": {},
   "outputs": [
    {
     "data": {
      "text/plain": [
       "4"
      ]
     },
     "execution_count": 44,
     "metadata": {},
     "output_type": "execute_result"
    }
   ],
   "source": [
    "len(s)"
   ]
  },
  {
   "cell_type": "code",
   "execution_count": 48,
   "id": "a4ac4d36",
   "metadata": {},
   "outputs": [
    {
     "data": {
      "text/plain": [
       "0    1\n",
       "1    2\n",
       "2    3\n",
       "dtype: int64"
      ]
     },
     "execution_count": 48,
     "metadata": {},
     "output_type": "execute_result"
    }
   ],
   "source": [
    "s = pd.Series([1, 2, 3])\n",
    "s"
   ]
  },
  {
   "cell_type": "code",
   "execution_count": 49,
   "id": "cbf18f4a",
   "metadata": {},
   "outputs": [
    {
     "data": {
      "text/plain": [
       "0            1\n",
       "1            2\n",
       "2            3\n",
       "Animal    Bear\n",
       "dtype: object"
      ]
     },
     "execution_count": 49,
     "metadata": {},
     "output_type": "execute_result"
    }
   ],
   "source": [
    "s.loc['Animal'] = 'Bear'\n",
    "s"
   ]
  },
  {
   "cell_type": "markdown",
   "id": "0bbdd377",
   "metadata": {},
   "source": [
    "# The DataFrame Data Structure"
   ]
  },
  {
   "cell_type": "code",
   "execution_count": 30,
   "id": "b3810fac",
   "metadata": {},
   "outputs": [
    {
     "data": {
      "text/html": [
       "<div>\n",
       "<style scoped>\n",
       "    .dataframe tbody tr th:only-of-type {\n",
       "        vertical-align: middle;\n",
       "    }\n",
       "\n",
       "    .dataframe tbody tr th {\n",
       "        vertical-align: top;\n",
       "    }\n",
       "\n",
       "    .dataframe thead th {\n",
       "        text-align: right;\n",
       "    }\n",
       "</style>\n",
       "<table border=\"1\" class=\"dataframe\">\n",
       "  <thead>\n",
       "    <tr style=\"text-align: right;\">\n",
       "      <th></th>\n",
       "      <th>Name</th>\n",
       "      <th>Email</th>\n",
       "      <th>Password</th>\n",
       "      <th>Country</th>\n",
       "    </tr>\n",
       "  </thead>\n",
       "  <tbody>\n",
       "    <tr>\n",
       "      <th>location 1</th>\n",
       "      <td>Chris</td>\n",
       "      <td>chris@d.com</td>\n",
       "      <td>chris123</td>\n",
       "      <td>usa</td>\n",
       "    </tr>\n",
       "    <tr>\n",
       "      <th>location 1</th>\n",
       "      <td>Kevyn</td>\n",
       "      <td>kevyn@sds.com</td>\n",
       "      <td>pleasehash</td>\n",
       "      <td>usa</td>\n",
       "    </tr>\n",
       "    <tr>\n",
       "      <th>location 2</th>\n",
       "      <td>Vinod</td>\n",
       "      <td>homeboi@mail.com</td>\n",
       "      <td>vinodboy123</td>\n",
       "      <td>Mexico</td>\n",
       "    </tr>\n",
       "  </tbody>\n",
       "</table>\n",
       "</div>"
      ],
      "text/plain": [
       "             Name             Email     Password Country\n",
       "location 1  Chris       chris@d.com     chris123     usa\n",
       "location 1  Kevyn     kevyn@sds.com   pleasehash     usa\n",
       "location 2  Vinod  homeboi@mail.com  vinodboy123  Mexico"
      ]
     },
     "execution_count": 30,
     "metadata": {},
     "output_type": "execute_result"
    }
   ],
   "source": [
    "detail_1 = pd.Series({'Name': 'Chris',\n",
    "                     'Email': 'chris@d.com',\n",
    "                     'Password': 'chris123',\n",
    "                     'Country': 'usa'})\n",
    "detail_2 = pd.Series({'Name': 'Kevyn',\n",
    "                     'Email': 'kevyn@sds.com',\n",
    "                     'Password': 'pleasehash',\n",
    "                     'Country': 'usa'})\n",
    "detail_3 = pd.Series({'Name': 'Vinod',\n",
    "                     'Email': 'homeboi@mail.com',\n",
    "                     'Password': 'vinodboy123',\n",
    "                     'Country': 'Mexico'})\n",
    "df = pd.DataFrame([detail_1, detail_2, detail_3], index = ['location 1', 'location 1', 'location 2'])\n",
    "df"
   ]
  },
  {
   "cell_type": "code",
   "execution_count": 7,
   "id": "39f468b7",
   "metadata": {},
   "outputs": [
    {
     "data": {
      "text/plain": [
       "Name                   Vinod\n",
       "Email       homeboi@mail.com\n",
       "Password         vinodboy123\n",
       "Country               Mexico\n",
       "Name: location 2, dtype: object"
      ]
     },
     "execution_count": 7,
     "metadata": {},
     "output_type": "execute_result"
    }
   ],
   "source": [
    "df.loc['location 2']"
   ]
  },
  {
   "cell_type": "code",
   "execution_count": 10,
   "id": "20a41945",
   "metadata": {},
   "outputs": [
    {
     "data": {
      "text/plain": [
       "location 1      chris@d.com\n",
       "location 1    kevyn@sds.com\n",
       "Name: Email, dtype: object"
      ]
     },
     "execution_count": 10,
     "metadata": {},
     "output_type": "execute_result"
    }
   ],
   "source": [
    "df.loc['location 1', 'Email']"
   ]
  },
  {
   "cell_type": "code",
   "execution_count": 11,
   "id": "f8eaab3b",
   "metadata": {},
   "outputs": [
    {
     "data": {
      "text/html": [
       "<div>\n",
       "<style scoped>\n",
       "    .dataframe tbody tr th:only-of-type {\n",
       "        vertical-align: middle;\n",
       "    }\n",
       "\n",
       "    .dataframe tbody tr th {\n",
       "        vertical-align: top;\n",
       "    }\n",
       "\n",
       "    .dataframe thead th {\n",
       "        text-align: right;\n",
       "    }\n",
       "</style>\n",
       "<table border=\"1\" class=\"dataframe\">\n",
       "  <thead>\n",
       "    <tr style=\"text-align: right;\">\n",
       "      <th></th>\n",
       "      <th>location 1</th>\n",
       "      <th>location 1</th>\n",
       "      <th>location 2</th>\n",
       "    </tr>\n",
       "  </thead>\n",
       "  <tbody>\n",
       "    <tr>\n",
       "      <th>Name</th>\n",
       "      <td>Chris</td>\n",
       "      <td>Kevyn</td>\n",
       "      <td>Vinod</td>\n",
       "    </tr>\n",
       "    <tr>\n",
       "      <th>Email</th>\n",
       "      <td>chris@d.com</td>\n",
       "      <td>kevyn@sds.com</td>\n",
       "      <td>homeboi@mail.com</td>\n",
       "    </tr>\n",
       "    <tr>\n",
       "      <th>Password</th>\n",
       "      <td>chris123</td>\n",
       "      <td>pleasehash</td>\n",
       "      <td>vinodboy123</td>\n",
       "    </tr>\n",
       "    <tr>\n",
       "      <th>Country</th>\n",
       "      <td>usa</td>\n",
       "      <td>usa</td>\n",
       "      <td>Mexico</td>\n",
       "    </tr>\n",
       "  </tbody>\n",
       "</table>\n",
       "</div>"
      ],
      "text/plain": [
       "           location 1     location 1        location 2\n",
       "Name            Chris          Kevyn             Vinod\n",
       "Email     chris@d.com  kevyn@sds.com  homeboi@mail.com\n",
       "Password     chris123     pleasehash       vinodboy123\n",
       "Country           usa            usa            Mexico"
      ]
     },
     "execution_count": 11,
     "metadata": {},
     "output_type": "execute_result"
    }
   ],
   "source": [
    "df.T"
   ]
  },
  {
   "cell_type": "code",
   "execution_count": 18,
   "id": "a12c8615",
   "metadata": {},
   "outputs": [
    {
     "data": {
      "text/plain": [
       "location 1         chris@d.com\n",
       "location 1       kevyn@sds.com\n",
       "location 2    homeboi@mail.com\n",
       "Name: Email, dtype: object"
      ]
     },
     "execution_count": 18,
     "metadata": {},
     "output_type": "execute_result"
    }
   ],
   "source": [
    "df.T.loc['Email']"
   ]
  },
  {
   "cell_type": "code",
   "execution_count": 19,
   "id": "733ef9e5",
   "metadata": {},
   "outputs": [
    {
     "data": {
      "text/html": [
       "<div>\n",
       "<style scoped>\n",
       "    .dataframe tbody tr th:only-of-type {\n",
       "        vertical-align: middle;\n",
       "    }\n",
       "\n",
       "    .dataframe tbody tr th {\n",
       "        vertical-align: top;\n",
       "    }\n",
       "\n",
       "    .dataframe thead th {\n",
       "        text-align: right;\n",
       "    }\n",
       "</style>\n",
       "<table border=\"1\" class=\"dataframe\">\n",
       "  <thead>\n",
       "    <tr style=\"text-align: right;\">\n",
       "      <th></th>\n",
       "      <th>Name</th>\n",
       "      <th>Password</th>\n",
       "    </tr>\n",
       "  </thead>\n",
       "  <tbody>\n",
       "    <tr>\n",
       "      <th>location 1</th>\n",
       "      <td>Chris</td>\n",
       "      <td>chris123</td>\n",
       "    </tr>\n",
       "    <tr>\n",
       "      <th>location 1</th>\n",
       "      <td>Kevyn</td>\n",
       "      <td>pleasehash</td>\n",
       "    </tr>\n",
       "    <tr>\n",
       "      <th>location 2</th>\n",
       "      <td>Vinod</td>\n",
       "      <td>vinodboy123</td>\n",
       "    </tr>\n",
       "  </tbody>\n",
       "</table>\n",
       "</div>"
      ],
      "text/plain": [
       "             Name     Password\n",
       "location 1  Chris     chris123\n",
       "location 1  Kevyn   pleasehash\n",
       "location 2  Vinod  vinodboy123"
      ]
     },
     "execution_count": 19,
     "metadata": {},
     "output_type": "execute_result"
    }
   ],
   "source": [
    "df.loc[:, ['Name', 'Password']]"
   ]
  },
  {
   "cell_type": "markdown",
   "id": "6a955dc5",
   "metadata": {},
   "source": [
    "# Dropping a Column from a DataFrame"
   ]
  },
  {
   "cell_type": "code",
   "execution_count": 32,
   "id": "31fc4645",
   "metadata": {},
   "outputs": [
    {
     "data": {
      "text/html": [
       "<div>\n",
       "<style scoped>\n",
       "    .dataframe tbody tr th:only-of-type {\n",
       "        vertical-align: middle;\n",
       "    }\n",
       "\n",
       "    .dataframe tbody tr th {\n",
       "        vertical-align: top;\n",
       "    }\n",
       "\n",
       "    .dataframe thead th {\n",
       "        text-align: right;\n",
       "    }\n",
       "</style>\n",
       "<table border=\"1\" class=\"dataframe\">\n",
       "  <thead>\n",
       "    <tr style=\"text-align: right;\">\n",
       "      <th></th>\n",
       "      <th>Name</th>\n",
       "      <th>Email</th>\n",
       "      <th>Password</th>\n",
       "      <th>Country</th>\n",
       "    </tr>\n",
       "  </thead>\n",
       "  <tbody>\n",
       "    <tr>\n",
       "      <th>location 1</th>\n",
       "      <td>Chris</td>\n",
       "      <td>chris@d.com</td>\n",
       "      <td>chris123</td>\n",
       "      <td>usa</td>\n",
       "    </tr>\n",
       "    <tr>\n",
       "      <th>location 1</th>\n",
       "      <td>Kevyn</td>\n",
       "      <td>kevyn@sds.com</td>\n",
       "      <td>pleasehash</td>\n",
       "      <td>usa</td>\n",
       "    </tr>\n",
       "  </tbody>\n",
       "</table>\n",
       "</div>"
      ],
      "text/plain": [
       "             Name          Email    Password Country\n",
       "location 1  Chris    chris@d.com    chris123     usa\n",
       "location 1  Kevyn  kevyn@sds.com  pleasehash     usa"
      ]
     },
     "execution_count": 32,
     "metadata": {},
     "output_type": "execute_result"
    }
   ],
   "source": [
    "df.drop(['location 2']) #It will drop the Row"
   ]
  },
  {
   "cell_type": "code",
   "execution_count": 31,
   "id": "4e2a9b23",
   "metadata": {},
   "outputs": [
    {
     "data": {
      "text/html": [
       "<div>\n",
       "<style scoped>\n",
       "    .dataframe tbody tr th:only-of-type {\n",
       "        vertical-align: middle;\n",
       "    }\n",
       "\n",
       "    .dataframe tbody tr th {\n",
       "        vertical-align: top;\n",
       "    }\n",
       "\n",
       "    .dataframe thead th {\n",
       "        text-align: right;\n",
       "    }\n",
       "</style>\n",
       "<table border=\"1\" class=\"dataframe\">\n",
       "  <thead>\n",
       "    <tr style=\"text-align: right;\">\n",
       "      <th></th>\n",
       "      <th>Name</th>\n",
       "      <th>Email</th>\n",
       "      <th>Password</th>\n",
       "      <th>Country</th>\n",
       "    </tr>\n",
       "  </thead>\n",
       "  <tbody>\n",
       "    <tr>\n",
       "      <th>location 1</th>\n",
       "      <td>Chris</td>\n",
       "      <td>chris@d.com</td>\n",
       "      <td>chris123</td>\n",
       "      <td>usa</td>\n",
       "    </tr>\n",
       "    <tr>\n",
       "      <th>location 1</th>\n",
       "      <td>Kevyn</td>\n",
       "      <td>kevyn@sds.com</td>\n",
       "      <td>pleasehash</td>\n",
       "      <td>usa</td>\n",
       "    </tr>\n",
       "    <tr>\n",
       "      <th>location 2</th>\n",
       "      <td>Vinod</td>\n",
       "      <td>homeboi@mail.com</td>\n",
       "      <td>vinodboy123</td>\n",
       "      <td>Mexico</td>\n",
       "    </tr>\n",
       "  </tbody>\n",
       "</table>\n",
       "</div>"
      ],
      "text/plain": [
       "             Name             Email     Password Country\n",
       "location 1  Chris       chris@d.com     chris123     usa\n",
       "location 1  Kevyn     kevyn@sds.com   pleasehash     usa\n",
       "location 2  Vinod  homeboi@mail.com  vinodboy123  Mexico"
      ]
     },
     "execution_count": 31,
     "metadata": {},
     "output_type": "execute_result"
    }
   ],
   "source": [
    "df"
   ]
  },
  {
   "cell_type": "code",
   "execution_count": 33,
   "id": "c7ef8dca",
   "metadata": {},
   "outputs": [
    {
     "data": {
      "text/html": [
       "<div>\n",
       "<style scoped>\n",
       "    .dataframe tbody tr th:only-of-type {\n",
       "        vertical-align: middle;\n",
       "    }\n",
       "\n",
       "    .dataframe tbody tr th {\n",
       "        vertical-align: top;\n",
       "    }\n",
       "\n",
       "    .dataframe thead th {\n",
       "        text-align: right;\n",
       "    }\n",
       "</style>\n",
       "<table border=\"1\" class=\"dataframe\">\n",
       "  <thead>\n",
       "    <tr style=\"text-align: right;\">\n",
       "      <th></th>\n",
       "      <th>Email</th>\n",
       "      <th>Password</th>\n",
       "      <th>Country</th>\n",
       "    </tr>\n",
       "  </thead>\n",
       "  <tbody>\n",
       "    <tr>\n",
       "      <th>location 1</th>\n",
       "      <td>chris@d.com</td>\n",
       "      <td>chris123</td>\n",
       "      <td>usa</td>\n",
       "    </tr>\n",
       "    <tr>\n",
       "      <th>location 1</th>\n",
       "      <td>kevyn@sds.com</td>\n",
       "      <td>pleasehash</td>\n",
       "      <td>usa</td>\n",
       "    </tr>\n",
       "    <tr>\n",
       "      <th>location 2</th>\n",
       "      <td>homeboi@mail.com</td>\n",
       "      <td>vinodboy123</td>\n",
       "      <td>Mexico</td>\n",
       "    </tr>\n",
       "  </tbody>\n",
       "</table>\n",
       "</div>"
      ],
      "text/plain": [
       "                       Email     Password Country\n",
       "location 1       chris@d.com     chris123     usa\n",
       "location 1     kevyn@sds.com   pleasehash     usa\n",
       "location 2  homeboi@mail.com  vinodboy123  Mexico"
      ]
     },
     "execution_count": 33,
     "metadata": {},
     "output_type": "execute_result"
    }
   ],
   "source": [
    "df.drop(['Name'], axis = 1) #axis = 1 makes the drop in the column"
   ]
  },
  {
   "cell_type": "markdown",
   "id": "78d4cc9b",
   "metadata": {},
   "source": [
    "# Data Frame Indexing and Loading"
   ]
  },
  {
   "cell_type": "code",
   "execution_count": 34,
   "id": "f793e312",
   "metadata": {},
   "outputs": [
    {
     "data": {
      "text/html": [
       "<div>\n",
       "<style scoped>\n",
       "    .dataframe tbody tr th:only-of-type {\n",
       "        vertical-align: middle;\n",
       "    }\n",
       "\n",
       "    .dataframe tbody tr th {\n",
       "        vertical-align: top;\n",
       "    }\n",
       "\n",
       "    .dataframe thead th {\n",
       "        text-align: right;\n",
       "    }\n",
       "</style>\n",
       "<table border=\"1\" class=\"dataframe\">\n",
       "  <thead>\n",
       "    <tr style=\"text-align: right;\">\n",
       "      <th></th>\n",
       "      <th>Name</th>\n",
       "      <th>Email</th>\n",
       "      <th>Password</th>\n",
       "      <th>Country</th>\n",
       "    </tr>\n",
       "  </thead>\n",
       "  <tbody>\n",
       "    <tr>\n",
       "      <th>location 1</th>\n",
       "      <td>Chris</td>\n",
       "      <td>chris@d.com</td>\n",
       "      <td>chris123</td>\n",
       "      <td>usa</td>\n",
       "    </tr>\n",
       "    <tr>\n",
       "      <th>location 1</th>\n",
       "      <td>Kevyn</td>\n",
       "      <td>kevyn@sds.com</td>\n",
       "      <td>pleasehash</td>\n",
       "      <td>usa</td>\n",
       "    </tr>\n",
       "    <tr>\n",
       "      <th>location 2</th>\n",
       "      <td>Vinod</td>\n",
       "      <td>homeboi@mail.com</td>\n",
       "      <td>vinodboy123</td>\n",
       "      <td>Mexico</td>\n",
       "    </tr>\n",
       "  </tbody>\n",
       "</table>\n",
       "</div>"
      ],
      "text/plain": [
       "             Name             Email     Password Country\n",
       "location 1  Chris       chris@d.com     chris123     usa\n",
       "location 1  Kevyn     kevyn@sds.com   pleasehash     usa\n",
       "location 2  Vinod  homeboi@mail.com  vinodboy123  Mexico"
      ]
     },
     "execution_count": 34,
     "metadata": {},
     "output_type": "execute_result"
    }
   ],
   "source": [
    "df"
   ]
  },
  {
   "cell_type": "code",
   "execution_count": 35,
   "id": "86ae597e",
   "metadata": {},
   "outputs": [
    {
     "data": {
      "text/plain": [
       "location 1    Chris\n",
       "location 1    Kevyn\n",
       "location 2    Vinod\n",
       "Name: Name, dtype: object"
      ]
     },
     "execution_count": 35,
     "metadata": {},
     "output_type": "execute_result"
    }
   ],
   "source": [
    "name = df['Name']\n",
    "name"
   ]
  },
  {
   "cell_type": "code",
   "execution_count": 37,
   "id": "5cd01a7a",
   "metadata": {},
   "outputs": [
    {
     "data": {
      "text/plain": [
       "location 1    Chris\n",
       "location 1    Kevyn\n",
       "location 2    Vinod\n",
       "Name: Name, dtype: object"
      ]
     },
     "execution_count": 37,
     "metadata": {},
     "output_type": "execute_result"
    }
   ],
   "source": [
    "name = df['Name']\n",
    "name"
   ]
  },
  {
   "cell_type": "code",
   "execution_count": 41,
   "id": "b8352ac6",
   "metadata": {},
   "outputs": [
    {
     "data": {
      "text/plain": [
       "location 1       chris123\n",
       "location 1     pleasehash\n",
       "location 2    vinodboy123\n",
       "Name: Password, dtype: object"
      ]
     },
     "execution_count": 41,
     "metadata": {},
     "output_type": "execute_result"
    }
   ],
   "source": [
    "password = df['Password']\n",
    "password"
   ]
  },
  {
   "cell_type": "code",
   "execution_count": 42,
   "id": "0e28d698",
   "metadata": {},
   "outputs": [
    {
     "data": {
      "text/plain": [
       "location 1      chris123\n",
       "location 1    pleasehash\n",
       "Name: Password, dtype: object"
      ]
     },
     "execution_count": 42,
     "metadata": {},
     "output_type": "execute_result"
    }
   ],
   "source": [
    "password = df['Password'].loc['location 1']\n",
    "password"
   ]
  },
  {
   "cell_type": "markdown",
   "id": "78df53ae",
   "metadata": {},
   "source": [
    "# Reading Dataset with Pandas"
   ]
  },
  {
   "cell_type": "code",
   "execution_count": 3,
   "id": "f84e6313",
   "metadata": {},
   "outputs": [],
   "source": [
    "import pandas as pd"
   ]
  },
  {
   "cell_type": "code",
   "execution_count": null,
   "id": "02a6eaaa",
   "metadata": {},
   "outputs": [],
   "source": [
    "#Import the CSV file and work on it"
   ]
  },
  {
   "cell_type": "code",
   "execution_count": null,
   "id": "38afc74b",
   "metadata": {},
   "outputs": [],
   "source": []
  },
  {
   "cell_type": "markdown",
   "id": "cc85b922",
   "metadata": {},
   "source": [
    "## QUERING A DATASET"
   ]
  },
  {
   "cell_type": "code",
   "execution_count": null,
   "id": "ed1698b6",
   "metadata": {},
   "outputs": [],
   "source": [
    " "
   ]
  },
  {
   "cell_type": "code",
   "execution_count": null,
   "id": "41b31eba",
   "metadata": {},
   "outputs": [],
   "source": []
  },
  {
   "cell_type": "markdown",
   "id": "f6faaebb",
   "metadata": {},
   "source": [
    "# MISSING VALUES"
   ]
  },
  {
   "cell_type": "code",
   "execution_count": null,
   "id": "0c2f5a49",
   "metadata": {},
   "outputs": [],
   "source": []
  },
  {
   "cell_type": "code",
   "execution_count": null,
   "id": "d79c931b",
   "metadata": {},
   "outputs": [],
   "source": []
  },
  {
   "cell_type": "code",
   "execution_count": null,
   "id": "e534de68",
   "metadata": {},
   "outputs": [],
   "source": []
  },
  {
   "cell_type": "code",
   "execution_count": null,
   "id": "5df6108b",
   "metadata": {},
   "outputs": [],
   "source": []
  },
  {
   "cell_type": "code",
   "execution_count": null,
   "id": "7533ec5d",
   "metadata": {},
   "outputs": [],
   "source": []
  },
  {
   "cell_type": "code",
   "execution_count": null,
   "id": "6b79bd40",
   "metadata": {},
   "outputs": [],
   "source": []
  },
  {
   "cell_type": "code",
   "execution_count": null,
   "id": "a6a5d880",
   "metadata": {},
   "outputs": [],
   "source": []
  },
  {
   "cell_type": "code",
   "execution_count": null,
   "id": "7d1e8983",
   "metadata": {},
   "outputs": [],
   "source": []
  },
  {
   "cell_type": "code",
   "execution_count": null,
   "id": "94cb4003",
   "metadata": {},
   "outputs": [],
   "source": []
  },
  {
   "cell_type": "code",
   "execution_count": null,
   "id": "6cd25045",
   "metadata": {},
   "outputs": [],
   "source": []
  },
  {
   "cell_type": "code",
   "execution_count": null,
   "id": "ce34d712",
   "metadata": {},
   "outputs": [],
   "source": []
  },
  {
   "cell_type": "code",
   "execution_count": null,
   "id": "c2e4c52f",
   "metadata": {},
   "outputs": [],
   "source": []
  },
  {
   "cell_type": "code",
   "execution_count": null,
   "id": "11119f2e",
   "metadata": {},
   "outputs": [],
   "source": []
  },
  {
   "cell_type": "code",
   "execution_count": null,
   "id": "1da59cc9",
   "metadata": {},
   "outputs": [],
   "source": []
  },
  {
   "cell_type": "code",
   "execution_count": null,
   "id": "34d3ce94",
   "metadata": {},
   "outputs": [],
   "source": []
  },
  {
   "cell_type": "code",
   "execution_count": null,
   "id": "99a6d2ad",
   "metadata": {},
   "outputs": [],
   "source": []
  },
  {
   "cell_type": "code",
   "execution_count": null,
   "id": "a44d90e3",
   "metadata": {},
   "outputs": [],
   "source": []
  },
  {
   "cell_type": "code",
   "execution_count": null,
   "id": "80c0c646",
   "metadata": {},
   "outputs": [],
   "source": []
  },
  {
   "cell_type": "code",
   "execution_count": null,
   "id": "e5dfbf8d",
   "metadata": {},
   "outputs": [],
   "source": []
  },
  {
   "cell_type": "code",
   "execution_count": null,
   "id": "8b99ea81",
   "metadata": {},
   "outputs": [],
   "source": []
  },
  {
   "cell_type": "code",
   "execution_count": null,
   "id": "46d8c7a9",
   "metadata": {},
   "outputs": [],
   "source": []
  }
 ],
 "metadata": {
  "kernelspec": {
   "display_name": "Python 3 (ipykernel)",
   "language": "python",
   "name": "python3"
  },
  "language_info": {
   "codemirror_mode": {
    "name": "ipython",
    "version": 3
   },
   "file_extension": ".py",
   "mimetype": "text/x-python",
   "name": "python",
   "nbconvert_exporter": "python",
   "pygments_lexer": "ipython3",
   "version": "3.9.13"
  }
 },
 "nbformat": 4,
 "nbformat_minor": 5
}

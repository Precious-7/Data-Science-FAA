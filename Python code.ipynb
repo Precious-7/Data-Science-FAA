{
 "cells": [
  {
   "cell_type": "code",
   "execution_count": null,
   "id": "c3fa7783",
   "metadata": {},
   "outputs": [],
   "source": [
    "paragraph = \"#innovation #bigdata #coding #iot #computerscience #data #dataanalytics #business #engineering #robot #datascientist #art #software #automation #analytics #pythonprogramming #programmer #digitaltransformation #developer #love #instagood #fashion #art #artificialintelligence #ai #machinelearning #technology #datascience #python #deeplearning #programming #tech #robotics #innovation #bigdata #coding #iot #computerscience #data #dataanalytics #business #engineering #robot #datascientist #art #software #automation #analytics #ml #pythonprogramming #programmer #digitaltransformation #developer\""
   ]
  },
  {
   "cell_type": "code",
   "execution_count": null,
   "id": "68c7d947",
   "metadata": {},
   "outputs": [],
   "source": []
  },
  {
   "cell_type": "code",
   "execution_count": 2,
   "id": "7f02a7e2",
   "metadata": {},
   "outputs": [
    {
     "name": "stdout",
     "output_type": "stream",
     "text": [
      "Duplicate words in the paragraph: ['#innovation', '#bigdata', '#coding', '#iot', '#computerscience', '#data', '#dataanalytics', '#business', '#engineering', '#robot', '#datascientist', '#art', '#software', '#automation', '#analytics', '#pythonprogramming', '#programmer', '#digitaltransformation', '#developer']\n"
     ]
    }
   ],
   "source": [
    "def find_duplicate_words(paragraph):\n",
    "    # Split the paragraph into words\n",
    "    words = paragraph.split()\n",
    "\n",
    "    # Create a dictionary to store word frequencies\n",
    "    word_freq = {}\n",
    "\n",
    "    # Iterate through the words and count their occurrences\n",
    "    for word in words:\n",
    "        # Convert the word to lowercase to treat words with different cases as the same\n",
    "        word = word.lower()\n",
    "        # Increment the word's count in the dictionary\n",
    "        word_freq[word] = word_freq.get(word, 0) + 1\n",
    "\n",
    "    # Find and return duplicate words\n",
    "    duplicates = [word for word, count in word_freq.items() if count > 1]\n",
    "\n",
    "    return duplicates\n",
    "\n",
    "# Input paragraph\n",
    "paragraph = \"#innovation #bigdata #coding #iot #computerscience #data #dataanalytics #business #engineering #robot #datascientist #art #software #automation #analytics #pythonprogramming #programmer #digitaltransformation #developer #love #instagood #fashion #art #artificialintelligence #ai #machinelearning #technology #datascience #python #deeplearning #programming #tech #robotics #innovation #bigdata #coding #iot #computerscience #data #dataanalytics #business #engineering #robot #datascientist #art #software #automation #analytics #ml #pythonprogramming #programmer #digitaltransformation #developer\"\n",
    "\n",
    "# Find duplicate words\n",
    "duplicate_words = find_duplicate_words(paragraph)\n",
    "\n",
    "if duplicate_words:\n",
    "    print(\"Duplicate words in the paragraph:\", duplicate_words)\n",
    "else:\n",
    "    print(\"No duplicate words found in the paragraph.\")\n"
   ]
  },
  {
   "cell_type": "code",
   "execution_count": 3,
   "id": "b8984c0d",
   "metadata": {},
   "outputs": [
    {
     "name": "stdout",
     "output_type": "stream",
     "text": [
      "Paragraph without duplicate words:\n",
      "#innovation #bigdata #coding #iot #computerscience #data #dataanalytics #business #engineering #robot #datascientist #art #software #automation #analytics #pythonprogramming #programmer #digitaltransformation #developer #love #instagood #fashion #artificialintelligence #ai #machinelearning #technology #datascience #python #deeplearning #programming #tech #robotics #ml\n"
     ]
    }
   ],
   "source": [
    "def remove_duplicate_words(paragraph):\n",
    "    # Split the paragraph into words\n",
    "    words = paragraph.split()\n",
    "\n",
    "    # Create a list to store unique words\n",
    "    unique_words = []\n",
    "\n",
    "    # Iterate through the words and add them to unique_words if not already present\n",
    "    for word in words:\n",
    "        # Convert the word to lowercase to treat words with different cases as the same\n",
    "        word = word.lower()\n",
    "        if word not in unique_words:\n",
    "            unique_words.append(word)\n",
    "\n",
    "    # Join the unique words to form a new paragraph\n",
    "    new_paragraph = ' '.join(unique_words)\n",
    "\n",
    "    return new_paragraph\n",
    "\n",
    "# Input paragraph\n",
    "paragraph = \"#innovation #bigdata #coding #iot #computerscience #data #dataanalytics #business #engineering #robot #datascientist #art #software #automation #analytics #pythonprogramming #programmer #digitaltransformation #developer #love #instagood #fashion #art #artificialintelligence #ai #machinelearning #technology #datascience #python #deeplearning #programming #tech #robotics #innovation #bigdata #coding #iot #computerscience #data #dataanalytics #business #engineering #robot #datascientist #art #software #automation #analytics #ml #pythonprogramming #programmer #digitaltransformation #developer\"\n",
    "\n",
    "# Remove duplicate words\n",
    "new_paragraph = remove_duplicate_words(paragraph)\n",
    "\n",
    "# Print the paragraph without duplicate words\n",
    "print(\"Paragraph without duplicate words:\")\n",
    "print(new_paragraph)\n"
   ]
  },
  {
   "cell_type": "code",
   "execution_count": null,
   "id": "1a48ab5f",
   "metadata": {},
   "outputs": [],
   "source": []
  },
  {
   "cell_type": "code",
   "execution_count": null,
   "id": "d1dc2073",
   "metadata": {},
   "outputs": [],
   "source": []
  },
  {
   "cell_type": "code",
   "execution_count": null,
   "id": "1df13d47",
   "metadata": {},
   "outputs": [],
   "source": []
  }
 ],
 "metadata": {
  "kernelspec": {
   "display_name": "Python 3 (ipykernel)",
   "language": "python",
   "name": "python3"
  },
  "language_info": {
   "codemirror_mode": {
    "name": "ipython",
    "version": 3
   },
   "file_extension": ".py",
   "mimetype": "text/x-python",
   "name": "python",
   "nbconvert_exporter": "python",
   "pygments_lexer": "ipython3",
   "version": "3.9.13"
  }
 },
 "nbformat": 4,
 "nbformat_minor": 5
}
